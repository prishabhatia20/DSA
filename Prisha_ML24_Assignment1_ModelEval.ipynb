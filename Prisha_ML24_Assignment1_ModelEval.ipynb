{
  "nbformat": 4,
  "nbformat_minor": 0,
  "metadata": {
    "colab": {
      "provenance": [],
      "include_colab_link": true
    },
    "kernelspec": {
      "name": "python3",
      "display_name": "Python 3"
    },
    "language_info": {
      "name": "python"
    }
  },
  "cells": [
    {
      "cell_type": "markdown",
      "metadata": {
        "id": "view-in-github",
        "colab_type": "text"
      },
      "source": [
        "<a href=\"https://colab.research.google.com/github/prishabhatia20/DSA/blob/main/Prisha_ML24_Assignment1_ModelEval.ipynb\" target=\"_parent\"><img src=\"https://colab.research.google.com/assets/colab-badge.svg\" alt=\"Open In Colab\"/></a>"
      ]
    },
    {
      "cell_type": "markdown",
      "source": [
        "# Module 1: Machine Learning Applications, Evaluations, and People\n",
        "# Assignment 1 (the last part) - Key Metrics for Assessing Classifiers\n",
        "This notebook introduces important model evaluation metrics to summarized the types of mistakes and success of a classification model.\n",
        "We will build on this code for the next assignment.\n",
        "\n",
        "## Can Food Models have Bias?\n",
        "### _An evaluation of the impact of data on model performance_\n",
        "\n",
        "Model performance can vary significantly with different groups or types of data, especially if a model has high bias. Models have bias in part because training data has bias, and training data has bias because people curate training data. A prerequisite to evaluating model bias is understanding how your model performs on different types of data. To achieve a comprehensive understanding of model performance, you can use established evaluation metrics. In this module, you will learn what those metrics are, how they work, and how to interpret them.\n",
        "\n",
        "<img src=\"https://raw.githubusercontent.com/olinml2024/machine_learning_a2/main/images/model_bias.png\" alt=\"drawing\"/>\n"
      ],
      "metadata": {
        "id": "3sGCPRHyfG8T"
      }
    },
    {
      "cell_type": "markdown",
      "source": [
        "## The Scenario\n",
        "  You are the head of the R&D department at Pie-thagoras Labs, a new FoodTech start-up that is aimed at helping members of the visually impaired and blind community in different food-related situations. The first products you are making are two is an image-based dessert classifiers that enables users to obtain detailed information about foods in front of them by simply taking a picture.\n",
        "\n",
        "Product 1: Cake or not cake. (this is a binary classifier)\n",
        "\n",
        "Product 2: Dessert type of 20+ dessert types (this is a multi-class classifier)\n",
        "\n",
        "You can read [this paper](https://www.jsr.org/hs/index.php/path/article/view/2341) if you are interested in diving deeper into image-based food classifiers).\n",
        "\n",
        "We are going to start with metrics for Product 1, and then for Product 2. In the next assignment, you'll evaluate multiple models for Product 2.\n",
        "\n",
        "\n",
        "## Metrics Overview\n",
        "Before being able to evaluate your employees' models, you need to implement metrics that help you quantitatively assess the results of each model. The metrics you will implement in this assignment are:\n",
        "\n",
        "* Confusion Matrix\n",
        "* Classification Accuracy\n",
        "* Precision\n",
        "* Recall\n",
        "\n",
        "**_Consult_** **_[this article](https://arxiv.org/abs/2008.05756)_** **_to_** **_learn_** **_about_** **_the_** **_metrics_** **_and_** **_inform_** **_your_** **_implementation_**. You may need to click the View PDF button on the right."
      ],
      "metadata": {
        "id": "4Wb5AOmdkBfa"
      }
    },
    {
      "cell_type": "markdown",
      "source": [
        "# Confusion Matrix\n",
        "\n",
        "According to the article above, \"the confusion matrix is a cross table that records the number of occurrences between two raters, the true/actual classification and the predicted classification\" (Grandini et al., 2).\n",
        "\n",
        "Before we dive deeper, we need to import the libraries we are going to use to create the confusion matrix:"
      ],
      "metadata": {
        "id": "zDPgncM6kE2c"
      }
    },
    {
      "cell_type": "code",
      "source": [
        "# Matplotlib inline allows us to interact with plots, via zooming, etc.\n",
        "import matplotlib.pyplot as plt\n",
        "%matplotlib inline\n",
        "import seaborn as sns"
      ],
      "metadata": {
        "id": "eC_GBtk2m5Ew"
      },
      "execution_count": 85,
      "outputs": []
    },
    {
      "cell_type": "markdown",
      "source": [
        "##Product 1: Cake or not cake? - The Binary Confusion Matrix\n",
        "We are going to start with a simple version of this, using some fake results from a fake model, based on the TV show Is it Cake?\n",
        "\n",
        "<img src=\"https://media.giphy.com/media/9gF8CnpjfrOSaPu2Wx/giphy.gif\" alt=\"is it cake\"/>\n",
        "\n",
        "\n",
        "The classifier (or in the case of the show, a human acting as a classifier) looks at an object and makes a prediction about if it is cake or not. So if it's cake, that's a \"positive\" response, which is marked as a 1.\n",
        "\n",
        "Alternatively, we can think of this as two classes:\n",
        "* not cake (class 0)\n",
        "* cake (class 1)\n",
        "\n",
        "In the land of binary classification (yes/no, 1/0) it doesn't matter, but it will become important for multi-class situations and it's always important to pay attention to what your labels are telling you.\n",
        "\n",
        "Here, we are using a very small amount of data so that you can easily count to check that things are working properly."
      ],
      "metadata": {
        "id": "bDSq8CdNP8yT"
      }
    },
    {
      "cell_type": "code",
      "source": [
        "cake_labels = [\"not cake\", \"cake\"] #not cake is 0, cake is 1\n",
        "cake_predictions = [0, 1, 0, 0, 0, 1, 1, 0, 1, 1, 0, 1, 1, 1]\n",
        "cake_ground_truth_labels = [0, 1, 0, 1, 0, 0, 0, 0, 1, 0, 1, 1, 1, 1]"
      ],
      "metadata": {
        "id": "n5itJ7G0Rb9g"
      },
      "execution_count": 86,
      "outputs": []
    },
    {
      "cell_type": "code",
      "source": [
        "print(cake_predictions)\n",
        "print(cake_ground_truth_labels)"
      ],
      "metadata": {
        "id": "9BwEVWa-RvMe",
        "outputId": "798ee7a1-cff3-4544-cb38-b0d65771a37b",
        "colab": {
          "base_uri": "https://localhost:8080/",
          "height": 0
        }
      },
      "execution_count": 87,
      "outputs": [
        {
          "output_type": "stream",
          "name": "stdout",
          "text": [
            "[0, 1, 0, 0, 0, 1, 1, 0, 1, 1, 0, 1, 1, 1]\n",
            "[0, 1, 0, 1, 0, 0, 0, 0, 1, 0, 1, 1, 1, 1]\n"
          ]
        }
      ]
    },
    {
      "cell_type": "markdown",
      "source": [
        "### Binary Confusion Matrix\n",
        "\n",
        "First we are going to introduce how binary classification works.\n",
        "\n",
        "A binary confusion matrix looks like this:\n",
        "\n",
        "<img src=\"https://raw.githubusercontent.com/olinml2024/machine_learning_a2/main/images/binary_class.png\" alt=\"drawing\"/>\n",
        "\n",
        "Where the prediction is either part of the class or not. It's pretty straightforward.\n",
        "\n",
        "A **positive** prediction indicates that the model thinks the image is a member of the class.\n",
        "\n",
        "A **negative** prediction indicates that the model thinks the image is not part of the class.\n",
        "\n",
        "The confusion matrix then pairs the predictions with their ground truth labels, or the actual classes the images belong to/the labels they actually have. Using this information, we can see how accurate the model is.\n",
        "\n",
        "Here are the basic metrics a binary confusion matrix can tell you:\n",
        "\n",
        "\n",
        "#### Number of True Positives (TP):\n",
        "A true positive is a member of the class and is classified as a member of the class. An example is a picture of a dog being classified as a dog.\n",
        "\n",
        "#### Number of False Positives (FP):\n",
        "In this instance, a false positive means a picture that is not part of the class is labeled as a member of the class. An example would be cat labeled as dog if the classifier only answered the question, \"Is this a dog or not?\"\n",
        "\n",
        "#### Number of True Negatives (TN):\n",
        "This is not a member of the class, and the prediction agrees with that. An example of this is a cat being labeled as not a dog.\n",
        "\n",
        "#### Number of False Negatives (FN):\n",
        "A false negative is a image that is part of the class, but is labeled as not part of the class. An example is a dog being classified as not a dog."
      ],
      "metadata": {
        "id": "8TweRpg1o_f0"
      }
    },
    {
      "cell_type": "markdown",
      "source": [
        "###Exercise 1: Manual Binary Confusion matrix\n",
        "Count the values above and make a confusion matrix on paper. No need to submit this, but it will be useful to help prevent confusion matrix confusion.\n"
      ],
      "metadata": {
        "id": "o8tgEPtoGmIP"
      }
    },
    {
      "cell_type": "markdown",
      "source": [
        "###Exercise 2: Binary confusion matrix\n",
        "Create a confusion matrix. We suggest writing this for the situation of multiple classes (e.g., the Product 2 example where you'll have labels of multiple class 0, 1, 2, 3, 4, etc). However, if that's hard to wrap your head around right now, start with just the binary classifier. In a later exercise, you'll revise this code to deal with multiple classes.\n",
        "\n",
        "We strongly suggest that your confusion matrix starts with class 0 in the first row and column (this will make it easier to expand to the multi-class version). We provide code below to flip the axes in the plot to make it look like a binary confusion matrix shown in the examples above."
      ],
      "metadata": {
        "id": "aW-af626o_kP"
      }
    },
    {
      "cell_type": "code",
      "source": [
        "## Really, this is all about creating boxes and incrementing the numbers that go into each box\n",
        "# Please note that you can also do this using numpy arrays and logicals.\n",
        "def calculate_confusion_matrix(predictions, gt_labels, num_classes):\n",
        "    # Initialize the confusion matrix with zeros\n",
        "    # The matrix is a 2D list where rows represent the true classes/labels and columns represent the predicted classes/labels\n",
        "    confusion_matrix = [[0 for _ in range(num_classes)] for _ in range(num_classes)]\n",
        "\n",
        "    # Iterate over the pairs of predictions and ground truth labels\n",
        "    for pred, true in zip(predictions, gt_labels):\n",
        "        # Increment the appropriate cell in the confusion matrix\n",
        "        # The cell at [true][pred] should be incremented since 'true' is the true class, and 'pred' is the predicted class\n",
        "        # TODO: Write code here to update the confusion matrix\n",
        "        if (pred == true):\n",
        "          if (pred == 1):\n",
        "            confusion_matrix[1][1] += 1\n",
        "          else:\n",
        "            confusion_matrix[0][0] += 1\n",
        "        elif (pred > true):\n",
        "          confusion_matrix[0][1] += 1\n",
        "        else:\n",
        "          confusion_matrix[1][0] += 1\n",
        "\n",
        "    # Return the populated confusion matrix\n",
        "    return confusion_matrix"
      ],
      "metadata": {
        "id": "jC3o6LKeo_T9"
      },
      "execution_count": 88,
      "outputs": []
    },
    {
      "cell_type": "code",
      "source": [
        "# # @title Answer\n",
        "# #Note: you can also do this with numpy arrays instead of loops\n",
        "# def calculate_confusion_matrix(predictions, gt_labels, num_classes):\n",
        "#     # Initialize the confusion matrix with zeros\n",
        "#     confusion_matrix = [[0 for _ in range(num_classes)] for _ in range(num_classes)]\n",
        "\n",
        "#     # Populate the confusion matrix\n",
        "#     for pred, true in zip(predictions, gt_labels):\n",
        "#         confusion_matrix[true][pred] += 1\n",
        "\n",
        "#     return confusion_matrix"
      ],
      "metadata": {
        "id": "2lltH6o7B8yN"
      },
      "execution_count": 89,
      "outputs": []
    },
    {
      "cell_type": "markdown",
      "source": [
        "###Now display your confusion matrix.\n",
        "\n",
        "Confirm that everything is as you expect based on your written version.  If not, fix it.\n"
      ],
      "metadata": {
        "id": "M4V9dsLkC-g1"
      }
    },
    {
      "cell_type": "code",
      "source": [
        "cake_num_classes = 2\n",
        "\n",
        "# Calculate the confusion matrix\n",
        "cake_cm = calculate_confusion_matrix(cake_predictions, cake_ground_truth_labels, cake_num_classes)\n",
        "\n",
        "# Print the confusion matrix (note that this starts at category 0 and counts up)\n",
        "print(\"Confusion Matrix (starts at category 0):\")\n",
        "for row in cake_cm:\n",
        "    print(row)\n",
        "\n",
        "\n",
        "# Plotting the confusion matrix (switching the label order to match a classic binary confusion matrix)\n",
        "plt.figure(figsize=(8, 6))\n",
        "sns.heatmap(cake_cm, annot=True, fmt='d', cmap='Blues', xticklabels=cake_labels, yticklabels=cake_labels)\n",
        "plt.title('Confusion Matrix')\n",
        "plt.xlabel('Predicted Label')\n",
        "plt.ylabel('True Label')\n",
        "# Inverting the axes to match the label order\n",
        "plt.gca().invert_yaxis()\n",
        "plt.gca().invert_xaxis()\n",
        "plt.show()"
      ],
      "metadata": {
        "id": "Uvr4MZmbDD-s",
        "colab": {
          "base_uri": "https://localhost:8080/",
          "height": 616
        },
        "outputId": "7d9b7a17-2df6-40a6-f3f4-9577cf8b86c5"
      },
      "execution_count": 90,
      "outputs": [
        {
          "output_type": "stream",
          "name": "stdout",
          "text": [
            "Confusion Matrix (starts at category 0):\n",
            "[4, 3]\n",
            "[2, 5]\n"
          ]
        },
        {
          "output_type": "display_data",
          "data": {
            "text/plain": [
              "<Figure size 800x600 with 2 Axes>"
            ],
            "image/png": "[encoded data removed]"
          },
          "metadata": {}
        }
      ]
    },
    {
      "cell_type": "markdown",
      "source": [
        "##Product 2: Dessert Classifier: Multi-class confusion matrix\n",
        "\n",
        "Now that you have this working for the binary case, check that it works for a multi-class problem.  "
      ],
      "metadata": {
        "id": "0iFtXAPfqrFr"
      }
    },
    {
      "cell_type": "markdown",
      "source": [
        "In the early days of Pie-thagoras Labs, your first employees created a proof-of-concept model to classify 23 dessert types based on images. In the next assignment we'll be diving into a detailed analysis of the company's more advanced models, but for now, we'll just load in the results of this first model."
      ],
      "metadata": {
        "id": "EcTL9DRCqrZh"
      }
    },
    {
      "cell_type": "code",
      "source": [
        "# Json helps us work with json file formats\n",
        "import json\n",
        "from collections import defaultdict\n",
        "# Clone the place where the model results are stored\n",
        "!git clone https://github.com/olinml2024/machine_learning_a2\n",
        "%cd machine_learning_a2"
      ],
      "metadata": {
        "id": "mrVsS9XusULb",
        "colab": {
          "base_uri": "https://localhost:8080/",
          "height": 0
        },
        "outputId": "2804ef8d-1b25-4ae8-e363-c61fde6e12c6"
      },
      "execution_count": 91,
      "outputs": [
        {
          "output_type": "stream",
          "name": "stdout",
          "text": [
            "Cloning into 'machine_learning_a2'...\n",
            "remote: Enumerating objects: 175, done.\u001b[K\n",
            "remote: Counting objects: 100% (102/102), done.\u001b[K\n",
            "remote: Compressing objects: 100% (78/78), done.\u001b[K\n",
            "remote: Total 175 (delta 54), reused 46 (delta 24), pack-reused 73 (from 1)\u001b[K\n",
            "Receiving objects: 100% (175/175), 93.15 MiB | 11.14 MiB/s, done.\n",
            "Resolving deltas: 100% (75/75), done.\n",
            "Updating files: 100% (28/28), done.\n",
            "/content/machine_learning_a2/machine_learning_a2\n"
          ]
        }
      ]
    },
    {
      "cell_type": "code",
      "source": [
        "# Load the json file\n",
        "with open(\"model_testing/results/model0.json\", \"r\") as file:\n",
        "    data = json.load(file)\n",
        "\n",
        "# Retrieve class mappings\n",
        "dessert_class_indices = data[\"class_indices\"]\n",
        "# Retrieve predictions\n",
        "dessert_predictions = [x[\"prediction_idx\"] for x in data[\"predictions_and_labels\"]]\n",
        "# Retrieve ground truth labels\n",
        "dessert_gt_labels = [x[\"gt_idx\"] for x in data[\"predictions_and_labels\"]]\n",
        "dessert_num_classes = len(dessert_class_indices)"
      ],
      "metadata": {
        "id": "neG_8SXDspDV"
      },
      "execution_count": 92,
      "outputs": []
    },
    {
      "cell_type": "markdown",
      "source": [
        "Because we haven't worked with multi-class models yet, we wanted to show you what the predictions and ground truth/actual labels look like. Each of these numbers maps to a particular dessert class, of which there are 23. The class indexing starts at 0.  "
      ],
      "metadata": {
        "id": "oLP_caqDqrcw"
      }
    },
    {
      "cell_type": "code",
      "source": [
        "print(dessert_class_indices)\n",
        "print(dessert_predictions)\n",
        "print(dessert_gt_labels)\n",
        "print(dessert_num_classes)"
      ],
      "metadata": {
        "id": "HHmBfJQXqsFc",
        "colab": {
          "base_uri": "https://localhost:8080/",
          "height": 0
        },
        "outputId": "9f80a2bd-61d1-4271-a924-4bc1f01a1219"
      },
      "execution_count": 93,
      "outputs": [
        {
          "output_type": "stream",
          "name": "stdout",
          "text": [
            "{'apple_pie': 0, 'baklava': 1, 'beignets': 2, 'bread_pudding': 3, 'cannoli': 4, 'carrot_cake': 5, 'cheesecake': 6, 'chocolate_cake': 7, 'chocolate_mousse': 8, 'churros': 9, 'creme_brulee': 10, 'croque_madame': 11, 'cup_cakes': 12, 'donuts': 13, 'french_toast': 14, 'frozen_yogurt': 15, 'ice_cream': 16, 'macarons': 17, 'pancakes': 18, 'red_velvet_cake': 19, 'strawberry_shortcake': 20, 'tiramisu': 21, 'waffles': 22}\n",
            "[5, 13, 20, 21, 21, 21, 11, 20, 20, 21, 21, 15, 7, 3, 21, 21, 21, 21, 1, 5, 5, 9, 17, 21, 19, 7, 21, 14, 7, 0, 21, 8, 21, 5, 17, 20, 19, 21, 21, 21, 8, 21, 21, 4, 19, 21, 1, 11, 19, 21, 6, 19, 19, 21, 3, 21, 0, 5, 21, 21, 7, 20, 21, 21, 7, 21, 7, 6, 21, 5, 21, 19, 7, 12, 21, 20, 21, 21, 21, 12, 21, 18, 21, 21, 21, 21, 21, 21, 5, 21, 21, 7, 21, 21, 10, 21, 2, 7, 21, 7, 9, 9, 9, 9, 9, 9, 9, 9, 9, 8, 9, 9, 9, 9, 9, 3, 9, 9, 13, 9, 7, 9, 9, 9, 9, 9, 14, 9, 9, 21, 9, 9, 9, 9, 4, 9, 9, 9, 20, 9, 9, 9, 9, 9, 9, 9, 9, 8, 9, 9, 22, 5, 9, 9, 9, 9, 22, 9, 9, 9, 9, 9, 9, 9, 9, 9, 19, 9, 9, 21, 9, 9, 9, 9, 9, 9, 4, 9, 9, 9, 9, 9, 4, 9, 9, 9, 9, 9, 9, 9, 9, 9, 9, 13, 9, 9, 9, 9, 9, 9, 17, 17, 17, 17, 17, 17, 17, 17, 17, 17, 17, 17, 17, 17, 17, 17, 17, 17, 17, 17, 17, 17, 17, 17, 17, 17, 17, 17, 16, 17, 17, 17, 2, 13, 17, 17, 17, 17, 17, 17, 17, 18, 17, 22, 12, 17, 17, 17, 17, 17, 17, 17, 17, 17, 17, 17, 17, 17, 22, 17, 17, 17, 17, 17, 17, 17, 2, 5, 17, 17, 17, 17, 17, 17, 17, 17, 17, 17, 17, 17, 17, 17, 17, 17, 17, 17, 17, 17, 17, 17, 17, 17, 17, 17, 12, 17, 17, 17, 17, 21, 2, 2, 2, 2, 21, 2, 9, 2, 2, 2, 2, 2, 2, 2, 2, 2, 16, 2, 5, 6, 4, 2, 2, 2, 2, 2, 2, 14, 2, 2, 2, 2, 2, 2, 2, 2, 2, 2, 2, 2, 2, 2, 2, 2, 2, 2, 2, 1, 2, 2, 9, 2, 2, 2, 14, 2, 2, 2, 2, 4, 2, 2, 2, 3, 22, 2, 2, 2, 2, 2, 2, 2, 2, 2, 2, 2, 16, 2, 2, 2, 2, 2, 8, 2, 2, 2, 2, 2, 3, 2, 2, 2, 0, 2, 2, 2, 2, 2, 2, 2, 14, 1, 3, 14, 14, 14, 4, 14, 14, 14, 20, 3, 2, 9, 0, 14, 14, 2, 3, 2, 14, 14, 14, 14, 22, 14, 22, 18, 22, 14, 0, 10, 22, 9, 14, 14, 11, 14, 2, 14, 2, 14, 3, 3, 14, 14, 3, 1, 14, 11, 5, 14, 0, 2, 22, 22, 9, 22, 14, 14, 3, 14, 14, 20, 14, 9, 4, 3, 22, 1, 21, 14, 11, 14, 14, 18, 14, 14, 22, 2, 20, 14, 0, 14, 14, 14, 22, 22, 20, 0, 4, 9, 1, 14, 14, 5, 14, 0, 3, 14, 15, 3, 15, 16, 15, 15, 22, 15, 15, 16, 15, 15, 15, 15, 10, 15, 20, 16, 16, 20, 9, 3, 13, 15, 20, 15, 15, 15, 15, 20, 15, 20, 16, 15, 15, 16, 15, 15, 15, 15, 15, 15, 3, 9, 15, 15, 15, 15, 16, 15, 15, 15, 15, 5, 15, 15, 15, 16, 15, 15, 15, 20, 16, 9, 15, 3, 15, 3, 15, 9, 16, 22, 15, 15, 15, 15, 15, 16, 16, 15, 16, 20, 15, 15, 15, 15, 15, 16, 15, 15, 15, 15, 15, 15, 15, 15, 15, 15, 15, 16, 20, 22, 16, 0, 3, 21, 18, 22, 22, 22, 22, 22, 3, 22, 4, 22, 5, 22, 22, 22, 22, 22, 22, 22, 22, 22, 22, 6, 22, 22, 22, 22, 22, 22, 22, 0, 22, 22, 22, 22, 22, 22, 3, 22, 19, 11, 22, 22, 22, 22, 22, 22, 22, 7, 0, 22, 22, 22, 22, 22, 22, 22, 22, 22, 7, 22, 22, 22, 22, 22, 22, 22, 22, 22, 22, 22, 22, 22, 20, 22, 22, 22, 22, 22, 22, 22, 22, 10, 22, 22, 22, 22, 22, 22, 22, 14, 22, 22, 22, 3, 5, 22, 12, 12, 12, 13, 12, 12, 12, 12, 12, 20, 12, 22, 12, 12, 12, 12, 0, 5, 12, 12, 12, 12, 12, 12, 19, 12, 12, 12, 12, 12, 3, 12, 12, 13, 20, 12, 12, 12, 12, 12, 12, 12, 12, 13, 12, 12, 12, 12, 12, 12, 17, 12, 12, 12, 12, 15, 12, 12, 19, 17, 21, 7, 12, 13, 9, 20, 1, 12, 15, 22, 13, 0, 13, 12, 12, 12, 12, 6, 21, 12, 13, 7, 8, 12, 12, 17, 12, 12, 12, 19, 12, 12, 12, 20, 21, 12, 19, 5, 13, 13, 2, 18, 13, 2, 2, 13, 17, 13, 13, 13, 13, 13, 13, 13, 0, 13, 13, 13, 13, 13, 13, 13, 13, 13, 13, 13, 13, 13, 13, 2, 13, 13, 13, 2, 13, 17, 17, 7, 13, 13, 13, 13, 9, 0, 6, 13, 13, 13, 2, 9, 13, 13, 13, 9, 13, 13, 16, 19, 13, 13, 1, 2, 13, 13, 13, 13, 13, 13, 13, 13, 13, 13, 13, 16, 13, 7, 13, 13, 7, 18, 17, 13, 13, 13, 13, 1, 13, 22, 13, 13, 2, 13, 13, 16, 13, 13, 13, 13, 5, 15, 8, 20, 15, 7, 8, 8, 8, 2, 3, 21, 10, 21, 21, 18, 20, 17, 6, 7, 8, 7, 6, 7, 8, 6, 8, 5, 3, 8, 8, 8, 7, 8, 5, 8, 3, 21, 7, 7, 21, 6, 8, 7, 7, 3, 22, 1, 7, 5, 6, 9, 7, 19, 16, 8, 20, 8, 8, 8, 22, 3, 9, 7, 8, 10, 8, 13, 7, 8, 9, 8, 9, 7, 20, 3, 5, 5, 20, 8, 15, 16, 7, 18, 12, 7, 7, 8, 7, 3, 8, 7, 8, 3, 8, 8, 21, 20, 15, 8, 19, 19, 22, 19, 7, 19, 6, 5, 19, 19, 5, 19, 20, 5, 19, 9, 19, 19, 11, 16, 19, 19, 21, 2, 5, 9, 19, 5, 17, 21, 19, 21, 5, 7, 19, 13, 5, 19, 19, 5, 19, 5, 19, 2, 5, 22, 5, 19, 12, 19, 16, 5, 19, 5, 21, 5, 19, 19, 5, 8, 7, 19, 19, 19, 9, 19, 20, 5, 19, 19, 5, 19, 5, 5, 13, 19, 9, 19, 5, 2, 19, 0, 19, 19, 7, 8, 19, 20, 9, 19, 21, 20, 5, 19, 7, 20, 19, 5, 19, 19, 6, 3, 16, 0, 22, 15, 16, 16, 16, 16, 16, 16, 3, 16, 22, 20, 9, 16, 13, 17, 16, 16, 16, 16, 19, 16, 0, 16, 16, 16, 7, 8, 16, 2, 16, 16, 16, 17, 16, 16, 15, 9, 16, 20, 3, 16, 16, 0, 16, 16, 16, 16, 3, 16, 16, 13, 16, 16, 5, 3, 21, 16, 16, 22, 15, 3, 9, 16, 16, 13, 3, 20, 17, 16, 16, 3, 16, 16, 16, 3, 20, 15, 21, 16, 16, 16, 2, 0, 16, 16, 8, 3, 4, 16, 22, 3, 16, 16, 12, 10, 3, 3, 3, 3, 3, 21, 10, 10, 0, 3, 7, 3, 0, 21, 3, 11, 3, 20, 3, 3, 0, 3, 3, 3, 3, 3, 3, 3, 5, 2, 3, 0, 3, 3, 3, 13, 3, 5, 3, 3, 3, 3, 5, 16, 3, 1, 3, 20, 3, 3, 22, 3, 3, 3, 3, 3, 3, 21, 20, 3, 3, 3, 3, 7, 3, 4, 5, 3, 3, 3, 20, 5, 3, 3, 3, 3, 7, 3, 3, 3, 3, 3, 22, 3, 3, 3, 3, 3, 3, 21, 6, 20, 3, 0, 16, 1, 0, 3, 3, 7, 18, 21, 11, 18, 18, 22, 18, 18, 3, 10, 18, 18, 18, 18, 0, 18, 18, 6, 18, 18, 18, 18, 13, 7, 18, 6, 18, 22, 18, 7, 18, 18, 21, 18, 5, 18, 0, 22, 18, 18, 17, 3, 18, 2, 18, 18, 18, 3, 18, 18, 18, 13, 18, 22, 18, 22, 18, 18, 3, 18, 21, 18, 3, 0, 18, 18, 18, 18, 22, 2, 18, 18, 2, 22, 18, 18, 2, 18, 18, 3, 18, 22, 2, 12, 18, 18, 18, 18, 0, 18, 18, 18, 22, 6, 2, 14, 14, 18, 2, 10, 20, 20, 15, 20, 21, 20, 9, 20, 20, 3, 20, 9, 20, 22, 22, 20, 9, 20, 6, 0, 20, 20, 20, 20, 20, 3, 3, 16, 20, 5, 20, 20, 20, 3, 20, 20, 6, 20, 20, 20, 20, 20, 20, 20, 3, 20, 20, 20, 20, 20, 20, 20, 6, 20, 20, 20, 20, 5, 20, 20, 8, 20, 6, 20, 20, 0, 18, 20, 0, 20, 20, 20, 2, 19, 15, 12, 20, 20, 2, 3, 16, 20, 20, 20, 3, 20, 22, 20, 3, 20, 3, 19, 20, 3, 22, 22, 20, 20, 20, 3, 4, 6, 6, 18, 7, 21, 6, 6, 6, 6, 20, 6, 4, 7, 18, 20, 20, 20, 6, 7, 6, 1, 14, 4, 7, 6, 20, 6, 20, 5, 3, 21, 7, 19, 20, 6, 6, 20, 20, 7, 3, 6, 6, 13, 8, 6, 5, 6, 13, 6, 20, 6, 8, 8, 6, 6, 11, 6, 7, 21, 6, 21, 6, 6, 21, 3, 22, 3, 19, 20, 3, 10, 6, 6, 6, 6, 7, 6, 6, 6, 19, 6, 8, 6, 21, 3, 6, 6, 21, 6, 6, 22, 20, 5, 7, 6, 6, 20, 6, 9, 4, 4, 16, 22, 4, 5, 4, 14, 4, 9, 4, 21, 2, 4, 17, 4, 6, 3, 4, 4, 4, 4, 4, 7, 3, 4, 4, 4, 4, 4, 4, 4, 20, 9, 4, 4, 9, 4, 20, 4, 4, 9, 4, 4, 4, 4, 4, 4, 4, 0, 4, 22, 4, 4, 4, 4, 4, 4, 4, 4, 4, 4, 4, 4, 4, 3, 2, 4, 4, 4, 4, 4, 4, 4, 4, 4, 16, 4, 4, 0, 22, 4, 4, 4, 17, 22, 20, 4, 4, 4, 4, 22, 14, 4, 4, 2, 4, 7, 4, 4, 5, 16, 5, 5, 5, 22, 21, 5, 7, 5, 20, 21, 5, 5, 22, 5, 5, 5, 5, 7, 5, 19, 5, 5, 5, 5, 5, 3, 1, 0, 12, 5, 5, 4, 5, 5, 5, 1, 20, 5, 7, 7, 21, 5, 5, 7, 5, 5, 3, 19, 5, 5, 5, 5, 5, 5, 6, 5, 3, 5, 5, 19, 0, 5, 5, 5, 5, 5, 5, 5, 0, 0, 20, 5, 5, 20, 0, 5, 6, 7, 20, 5, 5, 19, 19, 22, 5, 3, 5, 2, 19, 5, 19, 5, 5, 5, 5, 19, 7, 5, 21, 13, 8, 5, 5, 7, 7, 7, 7, 8, 7, 7, 7, 3, 7, 7, 7, 7, 7, 19, 7, 7, 8, 21, 20, 8, 5, 5, 7, 3, 5, 18, 6, 6, 5, 12, 6, 7, 5, 7, 7, 7, 5, 10, 5, 7, 6, 7, 7, 20, 7, 7, 7, 20, 7, 0, 13, 7, 6, 8, 7, 18, 7, 7, 7, 7, 9, 7, 7, 7, 7, 19, 20, 7, 17, 7, 6, 7, 7, 7, 7, 19, 7, 3, 7, 5, 7, 7, 22, 6, 7, 7, 7, 7, 19, 13, 8, 13, 7, 7, 10, 10, 3, 10, 10, 10, 10, 10, 10, 21, 10, 10, 10, 10, 10, 10, 10, 10, 18, 10, 21, 10, 10, 14, 3, 10, 1, 10, 10, 8, 10, 10, 3, 10, 10, 10, 10, 22, 10, 10, 10, 10, 21, 10, 10, 7, 10, 10, 10, 3, 10, 10, 10, 15, 10, 10, 2, 10, 10, 10, 2, 10, 10, 10, 10, 10, 10, 10, 10, 10, 10, 9, 10, 10, 10, 2, 10, 10, 10, 10, 10, 10, 10, 19, 10, 10, 10, 20, 10, 6, 10, 3, 10, 9, 10, 21, 10, 10, 10, 10, 5, 12, 16, 0, 0, 0, 0, 20, 7, 0, 18, 0, 20, 18, 2, 3, 3, 3, 20, 0, 3, 0, 4, 16, 1, 0, 0, 22, 3, 22, 0, 0, 2, 20, 22, 0, 0, 0, 0, 0, 20, 0, 20, 4, 5, 0, 2, 1, 1, 3, 7, 0, 0, 0, 1, 3, 0, 0, 17, 4, 1, 22, 0, 0, 3, 6, 4, 4, 16, 3, 0, 19, 22, 5, 22, 8, 22, 3, 0, 0, 3, 20, 1, 16, 22, 3, 20, 3, 3, 0, 22, 0, 14, 21, 3, 2, 0, 0, 20, 0, 1, 0, 1, 11, 1, 1, 0, 1, 1, 1, 1, 1, 0, 7, 0, 21, 1, 1, 1, 1, 13, 2, 1, 1, 5, 1, 2, 1, 4, 1, 5, 17, 0, 4, 0, 1, 1, 1, 3, 1, 0, 1, 5, 1, 3, 6, 1, 1, 1, 1, 1, 1, 1, 1, 22, 1, 1, 1, 2, 1, 11, 1, 1, 0, 5, 8, 0, 11, 0, 1, 1, 1, 22, 11, 0, 1, 1, 3, 1, 1, 22, 1, 16, 1, 1, 1, 1, 1, 1, 1, 1, 11, 1, 1, 20, 1, 1, 1, 0, 1, 11, 11, 11, 3, 11, 22, 11, 11, 11, 11, 11, 11, 11, 11, 11, 11, 11, 11, 11, 11, 11, 22, 11, 0, 3, 11, 5, 11, 11, 11, 11, 4, 11, 11, 11, 11, 11, 11, 14, 11, 11, 6, 11, 11, 11, 11, 11, 14, 11, 11, 11, 11, 11, 3, 11, 11, 11, 11, 11, 3, 11, 11, 11, 9, 2, 11, 22, 11, 11, 11, 11, 11, 11, 11, 11, 7, 11, 11, 11, 10, 11, 11, 11, 11, 11, 11, 11, 11, 1, 11, 11, 11, 11, 11, 11, 11, 11, 11, 0, 11]\n",
            "[21, 21, 21, 21, 21, 21, 21, 21, 21, 21, 21, 21, 21, 21, 21, 21, 21, 21, 21, 21, 21, 21, 21, 21, 21, 21, 21, 21, 21, 21, 21, 21, 21, 21, 21, 21, 21, 21, 21, 21, 21, 21, 21, 21, 21, 21, 21, 21, 21, 21, 21, 21, 21, 21, 21, 21, 21, 21, 21, 21, 21, 21, 21, 21, 21, 21, 21, 21, 21, 21, 21, 21, 21, 21, 21, 21, 21, 21, 21, 21, 21, 21, 21, 21, 21, 21, 21, 21, 21, 21, 21, 21, 21, 21, 21, 21, 21, 21, 21, 21, 9, 9, 9, 9, 9, 9, 9, 9, 9, 9, 9, 9, 9, 9, 9, 9, 9, 9, 9, 9, 9, 9, 9, 9, 9, 9, 9, 9, 9, 9, 9, 9, 9, 9, 9, 9, 9, 9, 9, 9, 9, 9, 9, 9, 9, 9, 9, 9, 9, 9, 9, 9, 9, 9, 9, 9, 9, 9, 9, 9, 9, 9, 9, 9, 9, 9, 9, 9, 9, 9, 9, 9, 9, 9, 9, 9, 9, 9, 9, 9, 9, 9, 9, 9, 9, 9, 9, 9, 9, 9, 9, 9, 9, 9, 9, 9, 9, 9, 9, 9, 17, 17, 17, 17, 17, 17, 17, 17, 17, 17, 17, 17, 17, 17, 17, 17, 17, 17, 17, 17, 17, 17, 17, 17, 17, 17, 17, 17, 17, 17, 17, 17, 17, 17, 17, 17, 17, 17, 17, 17, 17, 17, 17, 17, 17, 17, 17, 17, 17, 17, 17, 17, 17, 17, 17, 17, 17, 17, 17, 17, 17, 17, 17, 17, 17, 17, 17, 17, 17, 17, 17, 17, 17, 17, 17, 17, 17, 17, 17, 17, 17, 17, 17, 17, 17, 17, 17, 17, 17, 17, 17, 17, 17, 17, 17, 17, 17, 17, 17, 17, 2, 2, 2, 2, 2, 2, 2, 2, 2, 2, 2, 2, 2, 2, 2, 2, 2, 2, 2, 2, 2, 2, 2, 2, 2, 2, 2, 2, 2, 2, 2, 2, 2, 2, 2, 2, 2, 2, 2, 2, 2, 2, 2, 2, 2, 2, 2, 2, 2, 2, 2, 2, 2, 2, 2, 2, 2, 2, 2, 2, 2, 2, 2, 2, 2, 2, 2, 2, 2, 2, 2, 2, 2, 2, 2, 2, 2, 2, 2, 2, 2, 2, 2, 2, 2, 2, 2, 2, 2, 2, 2, 2, 2, 2, 2, 2, 2, 2, 2, 2, 14, 14, 14, 14, 14, 14, 14, 14, 14, 14, 14, 14, 14, 14, 14, 14, 14, 14, 14, 14, 14, 14, 14, 14, 14, 14, 14, 14, 14, 14, 14, 14, 14, 14, 14, 14, 14, 14, 14, 14, 14, 14, 14, 14, 14, 14, 14, 14, 14, 14, 14, 14, 14, 14, 14, 14, 14, 14, 14, 14, 14, 14, 14, 14, 14, 14, 14, 14, 14, 14, 14, 14, 14, 14, 14, 14, 14, 14, 14, 14, 14, 14, 14, 14, 14, 14, 14, 14, 14, 14, 14, 14, 14, 14, 14, 14, 14, 14, 14, 14, 15, 15, 15, 15, 15, 15, 15, 15, 15, 15, 15, 15, 15, 15, 15, 15, 15, 15, 15, 15, 15, 15, 15, 15, 15, 15, 15, 15, 15, 15, 15, 15, 15, 15, 15, 15, 15, 15, 15, 15, 15, 15, 15, 15, 15, 15, 15, 15, 15, 15, 15, 15, 15, 15, 15, 15, 15, 15, 15, 15, 15, 15, 15, 15, 15, 15, 15, 15, 15, 15, 15, 15, 15, 15, 15, 15, 15, 15, 15, 15, 15, 15, 15, 15, 15, 15, 15, 15, 15, 15, 15, 15, 15, 15, 15, 15, 15, 15, 15, 15, 22, 22, 22, 22, 22, 22, 22, 22, 22, 22, 22, 22, 22, 22, 22, 22, 22, 22, 22, 22, 22, 22, 22, 22, 22, 22, 22, 22, 22, 22, 22, 22, 22, 22, 22, 22, 22, 22, 22, 22, 22, 22, 22, 22, 22, 22, 22, 22, 22, 22, 22, 22, 22, 22, 22, 22, 22, 22, 22, 22, 22, 22, 22, 22, 22, 22, 22, 22, 22, 22, 22, 22, 22, 22, 22, 22, 22, 22, 22, 22, 22, 22, 22, 22, 22, 22, 22, 22, 22, 22, 22, 22, 22, 22, 22, 22, 22, 22, 22, 22, 12, 12, 12, 12, 12, 12, 12, 12, 12, 12, 12, 12, 12, 12, 12, 12, 12, 12, 12, 12, 12, 12, 12, 12, 12, 12, 12, 12, 12, 12, 12, 12, 12, 12, 12, 12, 12, 12, 12, 12, 12, 12, 12, 12, 12, 12, 12, 12, 12, 12, 12, 12, 12, 12, 12, 12, 12, 12, 12, 12, 12, 12, 12, 12, 12, 12, 12, 12, 12, 12, 12, 12, 12, 12, 12, 12, 12, 12, 12, 12, 12, 12, 12, 12, 12, 12, 12, 12, 12, 12, 12, 12, 12, 12, 12, 12, 12, 12, 12, 12, 13, 13, 13, 13, 13, 13, 13, 13, 13, 13, 13, 13, 13, 13, 13, 13, 13, 13, 13, 13, 13, 13, 13, 13, 13, 13, 13, 13, 13, 13, 13, 13, 13, 13, 13, 13, 13, 13, 13, 13, 13, 13, 13, 13, 13, 13, 13, 13, 13, 13, 13, 13, 13, 13, 13, 13, 13, 13, 13, 13, 13, 13, 13, 13, 13, 13, 13, 13, 13, 13, 13, 13, 13, 13, 13, 13, 13, 13, 13, 13, 13, 13, 13, 13, 13, 13, 13, 13, 13, 13, 13, 13, 13, 13, 13, 13, 13, 13, 13, 13, 8, 8, 8, 8, 8, 8, 8, 8, 8, 8, 8, 8, 8, 8, 8, 8, 8, 8, 8, 8, 8, 8, 8, 8, 8, 8, 8, 8, 8, 8, 8, 8, 8, 8, 8, 8, 8, 8, 8, 8, 8, 8, 8, 8, 8, 8, 8, 8, 8, 8, 8, 8, 8, 8, 8, 8, 8, 8, 8, 8, 8, 8, 8, 8, 8, 8, 8, 8, 8, 8, 8, 8, 8, 8, 8, 8, 8, 8, 8, 8, 8, 8, 8, 8, 8, 8, 8, 8, 8, 8, 8, 8, 8, 8, 8, 8, 8, 8, 8, 8, 19, 19, 19, 19, 19, 19, 19, 19, 19, 19, 19, 19, 19, 19, 19, 19, 19, 19, 19, 19, 19, 19, 19, 19, 19, 19, 19, 19, 19, 19, 19, 19, 19, 19, 19, 19, 19, 19, 19, 19, 19, 19, 19, 19, 19, 19, 19, 19, 19, 19, 19, 19, 19, 19, 19, 19, 19, 19, 19, 19, 19, 19, 19, 19, 19, 19, 19, 19, 19, 19, 19, 19, 19, 19, 19, 19, 19, 19, 19, 19, 19, 19, 19, 19, 19, 19, 19, 19, 19, 19, 19, 19, 19, 19, 19, 19, 19, 19, 19, 19, 16, 16, 16, 16, 16, 16, 16, 16, 16, 16, 16, 16, 16, 16, 16, 16, 16, 16, 16, 16, 16, 16, 16, 16, 16, 16, 16, 16, 16, 16, 16, 16, 16, 16, 16, 16, 16, 16, 16, 16, 16, 16, 16, 16, 16, 16, 16, 16, 16, 16, 16, 16, 16, 16, 16, 16, 16, 16, 16, 16, 16, 16, 16, 16, 16, 16, 16, 16, 16, 16, 16, 16, 16, 16, 16, 16, 16, 16, 16, 16, 16, 16, 16, 16, 16, 16, 16, 16, 16, 16, 16, 16, 16, 16, 16, 16, 16, 16, 16, 16, 3, 3, 3, 3, 3, 3, 3, 3, 3, 3, 3, 3, 3, 3, 3, 3, 3, 3, 3, 3, 3, 3, 3, 3, 3, 3, 3, 3, 3, 3, 3, 3, 3, 3, 3, 3, 3, 3, 3, 3, 3, 3, 3, 3, 3, 3, 3, 3, 3, 3, 3, 3, 3, 3, 3, 3, 3, 3, 3, 3, 3, 3, 3, 3, 3, 3, 3, 3, 3, 3, 3, 3, 3, 3, 3, 3, 3, 3, 3, 3, 3, 3, 3, 3, 3, 3, 3, 3, 3, 3, 3, 3, 3, 3, 3, 3, 3, 3, 3, 3, 18, 18, 18, 18, 18, 18, 18, 18, 18, 18, 18, 18, 18, 18, 18, 18, 18, 18, 18, 18, 18, 18, 18, 18, 18, 18, 18, 18, 18, 18, 18, 18, 18, 18, 18, 18, 18, 18, 18, 18, 18, 18, 18, 18, 18, 18, 18, 18, 18, 18, 18, 18, 18, 18, 18, 18, 18, 18, 18, 18, 18, 18, 18, 18, 18, 18, 18, 18, 18, 18, 18, 18, 18, 18, 18, 18, 18, 18, 18, 18, 18, 18, 18, 18, 18, 18, 18, 18, 18, 18, 18, 18, 18, 18, 18, 18, 18, 18, 18, 18, 20, 20, 20, 20, 20, 20, 20, 20, 20, 20, 20, 20, 20, 20, 20, 20, 20, 20, 20, 20, 20, 20, 20, 20, 20, 20, 20, 20, 20, 20, 20, 20, 20, 20, 20, 20, 20, 20, 20, 20, 20, 20, 20, 20, 20, 20, 20, 20, 20, 20, 20, 20, 20, 20, 20, 20, 20, 20, 20, 20, 20, 20, 20, 20, 20, 20, 20, 20, 20, 20, 20, 20, 20, 20, 20, 20, 20, 20, 20, 20, 20, 20, 20, 20, 20, 20, 20, 20, 20, 20, 20, 20, 20, 20, 20, 20, 20, 20, 20, 20, 6, 6, 6, 6, 6, 6, 6, 6, 6, 6, 6, 6, 6, 6, 6, 6, 6, 6, 6, 6, 6, 6, 6, 6, 6, 6, 6, 6, 6, 6, 6, 6, 6, 6, 6, 6, 6, 6, 6, 6, 6, 6, 6, 6, 6, 6, 6, 6, 6, 6, 6, 6, 6, 6, 6, 6, 6, 6, 6, 6, 6, 6, 6, 6, 6, 6, 6, 6, 6, 6, 6, 6, 6, 6, 6, 6, 6, 6, 6, 6, 6, 6, 6, 6, 6, 6, 6, 6, 6, 6, 6, 6, 6, 6, 6, 6, 6, 6, 6, 6, 4, 4, 4, 4, 4, 4, 4, 4, 4, 4, 4, 4, 4, 4, 4, 4, 4, 4, 4, 4, 4, 4, 4, 4, 4, 4, 4, 4, 4, 4, 4, 4, 4, 4, 4, 4, 4, 4, 4, 4, 4, 4, 4, 4, 4, 4, 4, 4, 4, 4, 4, 4, 4, 4, 4, 4, 4, 4, 4, 4, 4, 4, 4, 4, 4, 4, 4, 4, 4, 4, 4, 4, 4, 4, 4, 4, 4, 4, 4, 4, 4, 4, 4, 4, 4, 4, 4, 4, 4, 4, 4, 4, 4, 4, 4, 4, 4, 4, 4, 4, 5, 5, 5, 5, 5, 5, 5, 5, 5, 5, 5, 5, 5, 5, 5, 5, 5, 5, 5, 5, 5, 5, 5, 5, 5, 5, 5, 5, 5, 5, 5, 5, 5, 5, 5, 5, 5, 5, 5, 5, 5, 5, 5, 5, 5, 5, 5, 5, 5, 5, 5, 5, 5, 5, 5, 5, 5, 5, 5, 5, 5, 5, 5, 5, 5, 5, 5, 5, 5, 5, 5, 5, 5, 5, 5, 5, 5, 5, 5, 5, 5, 5, 5, 5, 5, 5, 5, 5, 5, 5, 5, 5, 5, 5, 5, 5, 5, 5, 5, 5, 7, 7, 7, 7, 7, 7, 7, 7, 7, 7, 7, 7, 7, 7, 7, 7, 7, 7, 7, 7, 7, 7, 7, 7, 7, 7, 7, 7, 7, 7, 7, 7, 7, 7, 7, 7, 7, 7, 7, 7, 7, 7, 7, 7, 7, 7, 7, 7, 7, 7, 7, 7, 7, 7, 7, 7, 7, 7, 7, 7, 7, 7, 7, 7, 7, 7, 7, 7, 7, 7, 7, 7, 7, 7, 7, 7, 7, 7, 7, 7, 7, 7, 7, 7, 7, 7, 7, 7, 7, 7, 7, 7, 7, 7, 7, 7, 7, 7, 7, 7, 10, 10, 10, 10, 10, 10, 10, 10, 10, 10, 10, 10, 10, 10, 10, 10, 10, 10, 10, 10, 10, 10, 10, 10, 10, 10, 10, 10, 10, 10, 10, 10, 10, 10, 10, 10, 10, 10, 10, 10, 10, 10, 10, 10, 10, 10, 10, 10, 10, 10, 10, 10, 10, 10, 10, 10, 10, 10, 10, 10, 10, 10, 10, 10, 10, 10, 10, 10, 10, 10, 10, 10, 10, 10, 10, 10, 10, 10, 10, 10, 10, 10, 10, 10, 10, 10, 10, 10, 10, 10, 10, 10, 10, 10, 10, 10, 10, 10, 10, 10, 0, 0, 0, 0, 0, 0, 0, 0, 0, 0, 0, 0, 0, 0, 0, 0, 0, 0, 0, 0, 0, 0, 0, 0, 0, 0, 0, 0, 0, 0, 0, 0, 0, 0, 0, 0, 0, 0, 0, 0, 0, 0, 0, 0, 0, 0, 0, 0, 0, 0, 0, 0, 0, 0, 0, 0, 0, 0, 0, 0, 0, 0, 0, 0, 0, 0, 0, 0, 0, 0, 0, 0, 0, 0, 0, 0, 0, 0, 0, 0, 0, 0, 0, 0, 0, 0, 0, 0, 0, 0, 0, 0, 0, 0, 0, 0, 0, 0, 0, 0, 1, 1, 1, 1, 1, 1, 1, 1, 1, 1, 1, 1, 1, 1, 1, 1, 1, 1, 1, 1, 1, 1, 1, 1, 1, 1, 1, 1, 1, 1, 1, 1, 1, 1, 1, 1, 1, 1, 1, 1, 1, 1, 1, 1, 1, 1, 1, 1, 1, 1, 1, 1, 1, 1, 1, 1, 1, 1, 1, 1, 1, 1, 1, 1, 1, 1, 1, 1, 1, 1, 1, 1, 1, 1, 1, 1, 1, 1, 1, 1, 1, 1, 1, 1, 1, 1, 1, 1, 1, 1, 1, 1, 1, 1, 1, 1, 1, 1, 1, 1, 11, 11, 11, 11, 11, 11, 11, 11, 11, 11, 11, 11, 11, 11, 11, 11, 11, 11, 11, 11, 11, 11, 11, 11, 11, 11, 11, 11, 11, 11, 11, 11, 11, 11, 11, 11, 11, 11, 11, 11, 11, 11, 11, 11, 11, 11, 11, 11, 11, 11, 11, 11, 11, 11, 11, 11, 11, 11, 11, 11, 11, 11, 11, 11, 11, 11, 11, 11, 11, 11, 11, 11, 11, 11, 11, 11, 11, 11, 11, 11, 11, 11, 11, 11, 11, 11, 11, 11, 11, 11, 11, 11, 11, 11, 11, 11, 11, 11, 11, 11]\n",
            "23\n"
          ]
        }
      ]
    },
    {
      "cell_type": "markdown",
      "source": [
        "Whose hungry?\n",
        "\n",
        "###Exercise 3: Display the confusion matrix for the dessert classifier.\n",
        "\n",
        "Note: You don't need to invert the axes on your plot for the multi-class version.\n",
        "\n",
        "If your orginal calculate_confusion_matrix function doesn't, go back and revise your code above to work for the multi-class situation as well. (Make sure it still works for the binary)."
      ],
      "metadata": {
        "id": "BaIBSVTvtQeV"
      }
    },
    {
      "cell_type": "code",
      "source": [
        "# Put your code here (this will be similar to the binary example)\n",
        "\n",
        "def calculate_dessert_confusion_matrix(dessert_predictions, dessert_gt_labels, dessert_num_classes):\n",
        "    dessert_confusion_matrix = [[0 for _ in range(dessert_num_classes)] for _ in range(dessert_num_classes)]\n",
        "\n",
        "    for pred, true in zip(dessert_predictions, dessert_gt_labels):\n",
        "        dessert_confusion_matrix[pred][true] += 1\n",
        "\n",
        "    return dessert_confusion_matrix\n"
      ],
      "metadata": {
        "id": "T2l9Muq5tc9J"
      },
      "execution_count": 94,
      "outputs": []
    },
    {
      "cell_type": "code",
      "source": [
        "\n",
        "dessert_cm = calculate_dessert_confusion_matrix(dessert_predictions, dessert_gt_labels, dessert_num_classes)\n",
        "\n",
        "# Print the confusion matrix (note that this starts at category 0 and counts up)\n",
        "print(\"Confusion Matrix (starts at category 0):\")\n",
        "for row in dessert_cm:\n",
        "    print(row)\n",
        "\n",
        "\n",
        "# Plotting the confusion matrix (switching the label order to match a classic binary confusion matrix)\n",
        "plt.figure(figsize=(8, 6))\n",
        "sns.heatmap(dessert_cm, annot=True, fmt='d', cmap='Blues', xticklabels=dessert_class_indices, yticklabels=dessert_class_indices)\n",
        "plt.title('Confusion Matrix')\n",
        "plt.xlabel('Predicted Label')\n",
        "plt.ylabel('True Label')\n",
        "# Inverting the axes to match the label order\n",
        "plt.gca().invert_yaxis()\n",
        "plt.gca().invert_xaxis()\n",
        "plt.show()"
      ],
      "metadata": {
        "colab": {
          "base_uri": "https://localhost:8080/",
          "height": 1013
        },
        "id": "tI5l5UZNcIkD",
        "outputId": "d02f30b9-42bf-40cf-fe7e-33bd0376c7e6"
      },
      "execution_count": 95,
      "outputs": [
        {
          "output_type": "stream",
          "name": "stdout",
          "text": [
            "Confusion Matrix (starts at category 0):\n",
            "[34, 12, 1, 6, 2, 5, 0, 1, 0, 0, 0, 2, 2, 2, 6, 0, 4, 0, 4, 1, 3, 2, 3]\n",
            "[6, 60, 1, 2, 0, 2, 1, 0, 1, 0, 1, 1, 1, 2, 4, 0, 0, 0, 0, 0, 0, 2, 0]\n",
            "[4, 3, 83, 1, 3, 1, 0, 0, 1, 0, 3, 1, 0, 8, 7, 0, 2, 2, 7, 3, 2, 1, 0]\n",
            "[15, 3, 2, 63, 3, 4, 6, 3, 8, 1, 5, 4, 1, 0, 9, 5, 11, 0, 6, 0, 11, 2, 4]\n",
            "[5, 2, 2, 1, 69, 1, 3, 0, 0, 3, 0, 1, 0, 0, 3, 0, 1, 0, 0, 0, 0, 1, 1]\n",
            "[3, 4, 1, 5, 1, 57, 3, 10, 6, 1, 0, 1, 3, 0, 2, 1, 1, 1, 1, 22, 2, 7, 1]\n",
            "[1, 1, 1, 1, 1, 2, 41, 7, 5, 0, 1, 1, 1, 1, 0, 0, 1, 0, 3, 1, 4, 2, 1]\n",
            "[2, 1, 0, 4, 2, 7, 9, 52, 19, 1, 1, 1, 2, 3, 0, 0, 1, 0, 2, 5, 0, 10, 2]\n",
            "[1, 1, 1, 0, 0, 0, 4, 6, 28, 2, 1, 0, 1, 0, 0, 0, 2, 0, 0, 2, 1, 2, 0]\n",
            "[0, 0, 2, 0, 4, 0, 1, 1, 4, 83, 2, 1, 1, 3, 5, 4, 3, 0, 0, 5, 3, 1, 0]\n",
            "[0, 0, 0, 2, 0, 0, 1, 1, 2, 0, 76, 1, 0, 0, 1, 1, 1, 0, 2, 0, 0, 1, 1]\n",
            "[0, 5, 0, 1, 0, 0, 1, 0, 0, 0, 0, 81, 0, 0, 3, 0, 0, 0, 1, 1, 0, 2, 1]\n",
            "[1, 0, 0, 0, 0, 1, 0, 1, 1, 0, 0, 0, 62, 0, 0, 0, 1, 2, 1, 1, 1, 2, 0]\n",
            "[0, 1, 0, 1, 0, 0, 2, 4, 1, 2, 0, 0, 7, 70, 0, 1, 3, 1, 2, 2, 0, 1, 0]\n",
            "[1, 0, 2, 0, 2, 0, 1, 0, 0, 1, 1, 2, 0, 0, 42, 0, 0, 0, 2, 0, 0, 1, 1]\n",
            "[0, 0, 0, 0, 0, 0, 0, 0, 4, 0, 1, 0, 2, 0, 0, 64, 4, 0, 0, 0, 2, 1, 0]\n",
            "[4, 1, 2, 2, 2, 1, 0, 0, 2, 0, 0, 0, 0, 3, 0, 15, 51, 1, 0, 2, 2, 0, 1]\n",
            "[1, 1, 0, 0, 2, 0, 0, 1, 1, 0, 0, 0, 3, 4, 0, 0, 3, 89, 1, 1, 0, 2, 0]\n",
            "[2, 0, 0, 0, 0, 0, 2, 2, 2, 0, 1, 0, 0, 2, 2, 0, 0, 1, 56, 0, 1, 1, 1]\n",
            "[1, 0, 0, 0, 0, 8, 3, 4, 1, 1, 1, 0, 4, 1, 0, 0, 1, 0, 0, 42, 2, 7, 1]\n",
            "[9, 1, 0, 5, 3, 5, 13, 4, 6, 1, 1, 0, 4, 0, 4, 7, 4, 0, 0, 5, 60, 6, 2]\n",
            "[1, 1, 1, 4, 1, 3, 7, 2, 6, 2, 4, 0, 3, 0, 1, 0, 2, 1, 3, 5, 1, 46, 1]\n",
            "[9, 3, 1, 2, 5, 3, 2, 1, 2, 2, 1, 3, 3, 1, 11, 2, 4, 2, 9, 2, 5, 0, 79]\n"
          ]
        },
        {
          "output_type": "display_data",
          "data": {
            "text/plain": [
              "<Figure size 800x600 with 2 Axes>"
            ],
            "image/png": "[encoded data removed]"
          },
          "metadata": {}
        }
      ]
    },
    {
      "cell_type": "code",
      "source": [
        "#@title Answer\n",
        "# # Calculate the confusion matrix\n",
        "# dessert_cm = calculate_confusion_matrix(dessert_predictions, dessert_gt_labels, dessert_num_classes)\n",
        "\n",
        "# # Plotting the confusion matrix (switching the label order to match a classic binary confusion matrix)\n",
        "# plt.figure(figsize=(8, 6))\n",
        "# sns.heatmap(dessert_cm, annot=True, fmt='d', cmap='Blues', xticklabels=dessert_class_indices, yticklabels=dessert_class_indices)\n",
        "# plt.title('Confusion Matrix')\n",
        "# plt.xlabel('Predicted Label')\n",
        "# plt.ylabel('True Label')\n",
        "# plt.show()"
      ],
      "metadata": {
        "id": "XkKjO3BytnZs",
        "cellView": "form"
      },
      "execution_count": 96,
      "outputs": []
    },
    {
      "cell_type": "markdown",
      "source": [
        "# True Positive, True Negative, False Positive, False Negative"
      ],
      "metadata": {
        "id": "dyKywtcUJgsx"
      }
    },
    {
      "cell_type": "markdown",
      "source": [
        "## Binary TP, TN, FP, and FN\n",
        "\n",
        "Now that we have our confusion matrix, we can calculate the various metrics embedded within it. We can start by thinking about the binary classification problem.\n",
        "\n",
        "In this case, we're just pulling specific values from the confusion matrix.\n",
        "\n",
        "Remember that the confusion matrix stored in cake_cm starts at category 0 (\"not cake\").\n",
        "\n",
        "\n"
      ],
      "metadata": {
        "id": "fNNEfnOjDN1z"
      }
    },
    {
      "cell_type": "markdown",
      "source": [
        "### Exercise 4: Identify the TP, FP, FN, and TN for the \"cake\" category."
      ],
      "metadata": {
        "id": "VUK2SXSpJmXe"
      }
    },
    {
      "cell_type": "code",
      "source": [
        "cake_TP = cake_cm[1][1]\n",
        "print(\"Cake TP: \",cake_TP)\n",
        "cake_FP = cake_cm[0][1]\n",
        "print(\"Cake FP: \",cake_FP)\n",
        "cake_FN = cake_cm[1][0]\n",
        "print(\"Cake FN: \",cake_FN)\n",
        "cake_TN = cake_cm[0][0]\n",
        "print(\"Cake TN: \",cake_TN)"
      ],
      "metadata": {
        "id": "_ene2Qoincck",
        "colab": {
          "base_uri": "https://localhost:8080/",
          "height": 0
        },
        "outputId": "52d2a6ca-ce24-467e-a366-bb007775fcfd"
      },
      "execution_count": 97,
      "outputs": [
        {
          "output_type": "stream",
          "name": "stdout",
          "text": [
            "Cake TP:  5\n",
            "Cake FP:  3\n",
            "Cake FN:  2\n",
            "Cake TN:  4\n"
          ]
        }
      ]
    },
    {
      "cell_type": "code",
      "source": [
        "#@title Answer\n",
        "\n",
        "# cake_TP = cake_cm[1][1]\n",
        "# print(\"Cake TP: \",cake_TP)\n",
        "# cake_FP = cake_cm[0][1]\n",
        "# print(\"Cake FP: \",cake_FP)\n",
        "# cake_FN = cake_cm[1][0]\n",
        "# print(\"Cake FN: \",cake_FN)\n",
        "# cake_TN = cake_cm[0][0]\n",
        "# print(\"Cake TN: \",cake_TN)"
      ],
      "metadata": {
        "id": "bt7gg2RdbhEJ"
      },
      "execution_count": 98,
      "outputs": []
    },
    {
      "cell_type": "markdown",
      "source": [
        "\n",
        "## Multi-class TP, TN, FP, and FN\n",
        "In multi-class classification, the metrics will be relative to each class. For example: a baklava is misclassified as a churro. From the churro class perspective, this is a false positive. From the baklava class perspective, this is a false negative.\n",
        "\n",
        "To redefine these metrics for the multi-class case explicitly:\n",
        "\n",
        "\n",
        "\n",
        "### True Positive (Multi-class case):\n",
        "The number of true positives for a particular class is the number of correctly identified images. A picture belonging to the class was correctly identified as belonging to the class.\n",
        "\n",
        "\n",
        "### True Negative (Multi-class case):\n",
        "The number of true negatives for a particular class is the number of images that are not from the class and were identified as being t from the class.\n",
        "\n",
        "\n",
        "### False Positive (Multi-class case):\n",
        "The number of false positives for a particular class is the number of images that are not from the class but were identified as being from the class. For example, a non-churro was labeled as a churro.\n",
        "\n",
        "\n",
        "### False Negative (Multi-class case):\n",
        "The number of false negatives for a particular class is the number of images that are from the class that are labeled as being not from the class. For example, a churro picture was misclassified as an apple pie.\n",
        "\n",
        "\n",
        "**Let's** **implement** **a** **function** **that** **will** **calculate** **these** **metrics!**"
      ],
      "metadata": {
        "id": "zcr8JVklDOVe"
      }
    },
    {
      "cell_type": "markdown",
      "source": [
        "###Exercise 5: Write a function to extract TP, FP, FN, and TN from confusion matrix.\n",
        "You should write this from the multi-class perspective, but it can be helpful to think about the binary classifier first."
      ],
      "metadata": {
        "id": "_UFuEFF5y1FJ"
      }
    },
    {
      "cell_type": "code",
      "source": [
        "\n",
        "def calculate_confusion_matrix_details(confusion_matrix):\n",
        "    # Get the number of classes from the confusion matrix's size\n",
        "    num_classes = len(confusion_matrix)\n",
        "    details = defaultdict(dict)\n",
        "\n",
        "    # Iterate over each class to calculate TP, FP, FN, and TN\n",
        "    for i in range(num_classes):\n",
        "\n",
        "        # TODO: Calculate True Positives (TP) for the current class\n",
        "        TP = confusion_matrix[i][i]\n",
        "        # TODO: Calculate False Positives (FP) for the current class\n",
        "        FP = 0\n",
        "        for j in range(num_classes):\n",
        "          FP += confusion_matrix[j][i]\n",
        "\n",
        "        FP -= TP\n",
        "        # TODO: Calculate False Negatives (FN) for the current class\n",
        "        FN = 0\n",
        "\n",
        "        for j in range(num_classes):\n",
        "          FN += confusion_matrix[i][j]\n",
        "\n",
        "        FN -= TP\n",
        "        # TODO: Calculate True Negatives (TN) for the current class\n",
        "        TN = 0\n",
        "\n",
        "        for row in range(num_classes):\n",
        "          if (row != i):\n",
        "            for col in range(num_classes):\n",
        "              if (col != i):\n",
        "                TN += confusion_matrix[row][col]\n",
        "        # Store the calculated values in the details dictionary\n",
        "        details[i]['TP'] = TP\n",
        "        details[i]['FP'] = FP\n",
        "        details[i]['FN'] = FN\n",
        "        details[i]['TN'] = TN\n",
        "\n",
        "    # Return the dictionary containing detailed metrics for each class\n",
        "    return details"
      ],
      "metadata": {
        "id": "-7O1Ys4NDOg6"
      },
      "execution_count": 99,
      "outputs": []
    },
    {
      "cell_type": "markdown",
      "source": [
        "####Hint\n",
        "True postive: In a multi-class confusion matrix, these are the diagonal elements of the matrix. Ie., photos that are predicted to be of class x given that the ground truth label is x.\n",
        "\n",
        "True negative: In a multi-class confusion matrix, it is the sum of all of the elements that are not in the class index's row and column. (Feel free to think through this on your own as well, by looking at the multi-class graphic)\n",
        "\n",
        "False positive: In a multi-class confusion matrix, it is the sum of the values in the column for the class, without the true positive term at the [class_index, class_index] position in the diagonal.\n",
        "\n",
        "\n",
        "False negative: In a multi-class confusion matrix, it is the sum of the values in the row for that class, excluding the diagonal true positive term.\n"
      ],
      "metadata": {
        "id": "hS9uJPNDzCds"
      }
    },
    {
      "cell_type": "code",
      "source": [
        "# # @title Answer\n",
        "\n",
        "# def calculate_confusion_matrix_details(confusion_matrix):\n",
        "#     num_classes = len(confusion_matrix)\n",
        "#     details = defaultdict(dict)\n",
        "\n",
        "#     for i in range(num_classes):\n",
        "#         TP = confusion_matrix[i][i]\n",
        "#         FP = sum(confusion_matrix[j][i] for j in range(num_classes)) - TP\n",
        "#         FN = sum(confusion_matrix[i][j] for j in range(num_classes)) - TP\n",
        "#         TN = sum(sum(confusion_matrix[j][k] for k in range(num_classes) if k != i) for j in range(num_classes) if j != i)\n",
        "\n",
        "#         details[i]['TP'] = TP\n",
        "#         details[i]['FP'] = FP\n",
        "#         details[i]['FN'] = FN\n",
        "#         details[i]['TN'] = TN\n",
        "\n",
        "#     return details"
      ],
      "metadata": {
        "id": "LDC5qoVQzEiG"
      },
      "execution_count": 100,
      "outputs": []
    },
    {
      "cell_type": "markdown",
      "source": [
        "###Now you can display the TP, TN, FP, FN information for each class.\n",
        "\n",
        "In the binary example, we only care about class 1 (is it cake?)."
      ],
      "metadata": {
        "id": "YjtDjNCXDOsC"
      }
    },
    {
      "cell_type": "code",
      "source": [
        "cake_cm_details = calculate_confusion_matrix_details(cake_cm)\n",
        "print(cake_cm_details[1])\n"
      ],
      "metadata": {
        "id": "FGWebfA1zkaz",
        "colab": {
          "base_uri": "https://localhost:8080/",
          "height": 0
        },
        "outputId": "e822d5a6-c269-43ab-8ddd-8c423727d840"
      },
      "execution_count": 101,
      "outputs": [
        {
          "output_type": "stream",
          "name": "stdout",
          "text": [
            "{'TP': 5, 'FP': 3, 'FN': 2, 'TN': 4}\n"
          ]
        }
      ]
    },
    {
      "cell_type": "markdown",
      "source": [
        "For the dessert classifier (multi-class), we want to see these values for each category or class."
      ],
      "metadata": {
        "id": "IA1_VpsIDOuF"
      }
    },
    {
      "cell_type": "code",
      "source": [
        "dessert_cm_details = calculate_confusion_matrix_details(dessert_cm)\n",
        "for class_index, values in dessert_cm_details.items():\n",
        "    print(f\"Class {class_index}: {values}\")"
      ],
      "metadata": {
        "id": "TWb16uzPDO4m",
        "colab": {
          "base_uri": "https://localhost:8080/",
          "height": 0
        },
        "outputId": "020d59aa-5896-45cb-a898-aea8646ba412"
      },
      "execution_count": 102,
      "outputs": [
        {
          "output_type": "stream",
          "name": "stdout",
          "text": [
            "Class 0: {'TP': 34, 'FP': 66, 'FN': 56, 'TN': 2144}\n",
            "Class 1: {'TP': 60, 'FP': 40, 'FN': 24, 'TN': 2176}\n",
            "Class 2: {'TP': 83, 'FP': 17, 'FN': 49, 'TN': 2151}\n",
            "Class 3: {'TP': 63, 'FP': 37, 'FN': 103, 'TN': 2097}\n",
            "Class 4: {'TP': 69, 'FP': 31, 'FN': 24, 'TN': 2176}\n",
            "Class 5: {'TP': 57, 'FP': 43, 'FN': 76, 'TN': 2124}\n",
            "Class 6: {'TP': 41, 'FP': 59, 'FN': 35, 'TN': 2165}\n",
            "Class 7: {'TP': 52, 'FP': 48, 'FN': 72, 'TN': 2128}\n",
            "Class 8: {'TP': 28, 'FP': 72, 'FN': 24, 'TN': 2176}\n",
            "Class 9: {'TP': 83, 'FP': 17, 'FN': 40, 'TN': 2160}\n",
            "Class 10: {'TP': 76, 'FP': 24, 'FN': 14, 'TN': 2186}\n",
            "Class 11: {'TP': 81, 'FP': 19, 'FN': 15, 'TN': 2185}\n",
            "Class 12: {'TP': 62, 'FP': 38, 'FN': 12, 'TN': 2188}\n",
            "Class 13: {'TP': 70, 'FP': 30, 'FN': 28, 'TN': 2172}\n",
            "Class 14: {'TP': 42, 'FP': 58, 'FN': 14, 'TN': 2186}\n",
            "Class 15: {'TP': 64, 'FP': 36, 'FN': 14, 'TN': 2186}\n",
            "Class 16: {'TP': 51, 'FP': 49, 'FN': 38, 'TN': 2162}\n",
            "Class 17: {'TP': 89, 'FP': 11, 'FN': 20, 'TN': 2180}\n",
            "Class 18: {'TP': 56, 'FP': 44, 'FN': 17, 'TN': 2183}\n",
            "Class 19: {'TP': 42, 'FP': 58, 'FN': 35, 'TN': 2165}\n",
            "Class 20: {'TP': 60, 'FP': 40, 'FN': 80, 'TN': 2120}\n",
            "Class 21: {'TP': 46, 'FP': 54, 'FN': 49, 'TN': 2151}\n",
            "Class 22: {'TP': 79, 'FP': 21, 'FN': 73, 'TN': 2127}\n"
          ]
        }
      ]
    },
    {
      "cell_type": "markdown",
      "source": [
        "\n",
        "Notice the massive number of True Negatives. Think about why this is the case.\n",
        "\n"
      ],
      "metadata": {
        "id": "_h8U5X47m5gc"
      }
    },
    {
      "cell_type": "markdown",
      "source": [
        "#Accuracy, Precision, and Recall"
      ],
      "metadata": {
        "id": "hq__BABZKbZt"
      }
    },
    {
      "cell_type": "markdown",
      "source": [
        "##Classification Accuracy\n",
        "If you're unfamiliar with accuracy, [this article](https://www.sharpsightlabs.com/blog/classification-accuracy-explained/) might be helpful.\n",
        "\n",
        "In short, \"classification accuracy is the ratio of the number of correct predictions to the total number of input samples\" (Yalug, et al.) ([Source](https://www.sciencedirect.com/science/article/abs/pii/B9780128228289000058))\n",
        "\n",
        "Knowing this, and how a classification matrix is constructed, see if you can implement your own function to calculate classification accuracy!"
      ],
      "metadata": {
        "id": "eWqNqz2a1J3l"
      }
    },
    {
      "cell_type": "markdown",
      "source": [
        "###Exercise 6: Extract accuracy from confusion matrix."
      ],
      "metadata": {
        "id": "lP_Gh6S01dPV"
      }
    },
    {
      "cell_type": "code",
      "source": [
        "def calculate_accuracy(confusion_matrix):\n",
        "    # TODO: Calculate the sum of TPs\n",
        "    # Hint (don't look if you don't want it): TPs for a class are located at the diagonal elements of the confusion matrix\n",
        "    correct_predictions = 0\n",
        "    for i in range(len(confusion_matrix)):\n",
        "      correct_predictions += confusion_matrix[i][i]\n",
        "\n",
        "    # TODO: Calculate the total number of predictions\n",
        "    # Hint (don't look if you don't want it): The total number of predictions is the sum of all elements in the confusion matrix\n",
        "    total_predictions = 0\n",
        "    for row in range(len(confusion_matrix)):\n",
        "      for col in range(len(confusion_matrix)):\n",
        "        total_predictions += confusion_matrix[row][col]\n",
        "\n",
        "    # TODO: Calculate accuracy\n",
        "    # Hint (don't look if you don't want it): Accuracy is the ratio of correct_predictions to total_predictions\n",
        "    # Make sure to check if total_predictions is not zero to avoid division by zero\n",
        "    accuracy = correct_predictions / total_predictions if total_predictions > 0 else 0\n",
        "\n",
        "    # Return the calculated accuracy\n",
        "    return accuracy"
      ],
      "metadata": {
        "id": "488GyXnn1pnl"
      },
      "execution_count": 103,
      "outputs": []
    },
    {
      "cell_type": "code",
      "source": [
        "# # @title Answer\n",
        "\n",
        "# def calculate_accuracy(confusion_matrix):\n",
        "#     # Calculate the sum of TPs\n",
        "#     correct_predictions = sum(confusion_matrix[i][i] for i in range(len(confusion_matrix)))\n",
        "\n",
        "#     # Calculate the total number of predictions\n",
        "#     total_predictions = sum(sum(row) for row in confusion_matrix)\n",
        "\n",
        "#     # Calculate accuracy\n",
        "#     accuracy = correct_predictions / total_predictions if total_predictions > 0 else 0\n",
        "#     return accuracy"
      ],
      "metadata": {
        "id": "95WTAhfs1xhm"
      },
      "execution_count": 104,
      "outputs": []
    },
    {
      "cell_type": "markdown",
      "source": [
        "###Now we can display our accuracy!"
      ],
      "metadata": {
        "id": "elnTRV4x14NT"
      }
    },
    {
      "cell_type": "code",
      "source": [
        "# Example usage\n",
        "cake_accuracy = calculate_accuracy(cake_cm)\n",
        "print(f\"Cake Accuracy: {cake_accuracy}\")\n",
        "\n",
        "dessert_accuracy = calculate_accuracy(dessert_cm)\n",
        "print(f\"Dessert Accuracy: {dessert_accuracy}\")\n"
      ],
      "metadata": {
        "id": "cqsbOtl-17Ji",
        "colab": {
          "base_uri": "https://localhost:8080/",
          "height": 0
        },
        "outputId": "420b1130-08b5-4284-a9d1-13d7891f28d0"
      },
      "execution_count": 105,
      "outputs": [
        {
          "output_type": "stream",
          "name": "stdout",
          "text": [
            "Cake Accuracy: 0.6428571428571429\n",
            "Dessert Accuracy: 0.6034782608695652\n"
          ]
        }
      ]
    },
    {
      "cell_type": "markdown",
      "source": [
        "## Precision\n",
        "\n",
        "Precision is a metric that tells you how good your model is at predicting that something is a member of your class. In other words, it is the accuracy of the positive predictions. The way you calculate it is by finding the ratio of true positives in your class to all positive predictions (true and false positive predictions).\n",
        "\n",
        "$$ \\frac{\\text{TP}}{\\text{TP} + \\text{FP}}$$\n",
        "\n",
        "It's like asking the question, \"How many of my positive predictions were actually correct?\" ([source](https://developers.google.com/machine-learning/crash-course/classification/precision-and-recall))\n",
        "\n",
        "See if you can implement a function that will calculate this!"
      ],
      "metadata": {
        "id": "1woH_XNh2OFS"
      }
    },
    {
      "cell_type": "markdown",
      "source": [
        "###Exercise 7: Calculate precision from confusion matrix"
      ],
      "metadata": {
        "id": "V7XaTZvi2Sel"
      }
    },
    {
      "cell_type": "code",
      "source": [
        "def calculate_precision(confusion_matrix):\n",
        "    details = calculate_confusion_matrix_details(confusion_matrix)\n",
        "    precision_scores = defaultdict(float)\n",
        "\n",
        "    for class_index, metrics in details.items():\n",
        "        # TODO: Retrieve True Positives (TP) and False Positives (FP) for the current class from the details\n",
        "        TP = metrics['TP']\n",
        "        FP = metrics['FP']\n",
        "\n",
        "        # TODO: Calculate precision for each class\n",
        "        # Hint (don't look if you don't want it): Precision is the ratio of TP to the sum of TP and FP.\n",
        "        # Make sure to check if the sum of TP and FP is not zero to avoid dividing by zero.\n",
        "        precision = TP / (TP + FP) if (TP + FP) > 0 else 0\n",
        "\n",
        "        # Store the precision score for the class\n",
        "        precision_scores[class_index] = precision\n",
        "\n",
        "    # Return the dictionary containing precision scores for each class\n",
        "    return precision_scores"
      ],
      "metadata": {
        "id": "JtD2DMJ22ZYq"
      },
      "execution_count": 106,
      "outputs": []
    },
    {
      "cell_type": "code",
      "source": [
        "# # @title Answer\n",
        "\n",
        "# def calculate_precision(confusion_matrix):\n",
        "#     details = calculate_confusion_matrix_details(confusion_matrix)\n",
        "#     precision_scores = defaultdict(float)\n",
        "\n",
        "#     for class_index, metrics in details.items():\n",
        "#         TP = metrics['TP']\n",
        "#         FP = metrics['FP']\n",
        "\n",
        "#         # Calculate precision for each class\n",
        "#         precision = TP / (TP + FP) if (TP + FP) > 0 else 0\n",
        "#         precision_scores[class_index] = precision\n",
        "\n",
        "#     return precision_scores"
      ],
      "metadata": {
        "id": "nvxRRf_12eoI"
      },
      "execution_count": 107,
      "outputs": []
    },
    {
      "cell_type": "markdown",
      "source": [
        "###Now we can display our precision for each product!\n",
        "Note that for the binary, we just care about the precision for class 1 (is it cake?) but for the dessert classifier, we need to think about the precision for each class."
      ],
      "metadata": {
        "id": "bpFEOlVR2j8g"
      }
    },
    {
      "cell_type": "code",
      "source": [
        "# Binary classifier (cake)\n",
        "cake_precision_scores = calculate_precision(cake_cm)\n",
        "print(\"Cake precision score\", cake_precision_scores[1])\n",
        "\n",
        "print( )\n",
        "\n",
        "# Multi-class\n",
        "print(\"Dessert classifier\")\n",
        "dessert_precision_scores = calculate_precision(dessert_cm)\n",
        "for class_index, precision in dessert_precision_scores.items():\n",
        "    print(f\"Precision for class {class_index}: {precision}\")"
      ],
      "metadata": {
        "id": "IMXrEGQZ2yNO",
        "colab": {
          "base_uri": "https://localhost:8080/",
          "height": 0
        },
        "outputId": "cf7cb41c-d23a-4cc2-af76-418aa19daee3"
      },
      "execution_count": 108,
      "outputs": [
        {
          "output_type": "stream",
          "name": "stdout",
          "text": [
            "Cake precision score 0.625\n",
            "\n",
            "Dessert classifier\n",
            "Precision for class 0: 0.34\n",
            "Precision for class 1: 0.6\n",
            "Precision for class 2: 0.83\n",
            "Precision for class 3: 0.63\n",
            "Precision for class 4: 0.69\n",
            "Precision for class 5: 0.57\n",
            "Precision for class 6: 0.41\n",
            "Precision for class 7: 0.52\n",
            "Precision for class 8: 0.28\n",
            "Precision for class 9: 0.83\n",
            "Precision for class 10: 0.76\n",
            "Precision for class 11: 0.81\n",
            "Precision for class 12: 0.62\n",
            "Precision for class 13: 0.7\n",
            "Precision for class 14: 0.42\n",
            "Precision for class 15: 0.64\n",
            "Precision for class 16: 0.51\n",
            "Precision for class 17: 0.89\n",
            "Precision for class 18: 0.56\n",
            "Precision for class 19: 0.42\n",
            "Precision for class 20: 0.6\n",
            "Precision for class 21: 0.46\n",
            "Precision for class 22: 0.79\n"
          ]
        }
      ]
    },
    {
      "cell_type": "markdown",
      "source": [
        "Are all the precision scores roughly equivalent across the classes? Why or why not (look at the confusion matrix)?"
      ],
      "metadata": {
        "id": "EUl9KMmh3Tzs"
      }
    },
    {
      "cell_type": "markdown",
      "source": [
        "## Recall\n",
        "\n",
        "Recall is a similar metric to precision, but rather than identifying the accuracy of positive predictions, we are looking at the accuracy of classifying members of the class.\n",
        "\n",
        "Meaning, we are answering the question: \"What proportion of positive identifications were actually correct?\" ([source](https://developers.google.com/machine-learning/crash-course/classification/precision-and-recall)) For every picture in our dataset that is **actually** in our class, how many were correctly identified?\n",
        "\n",
        "\n",
        "$$ \\frac{\\text{TP}}{\\text{TP} + \\text{FN}}$$\n",
        "\n",
        "Because $FN =$ members of the class misidentified and $TP=$ members of the class correctly identified, so $FN + TP =$ all members of class in dataset\n",
        "\n",
        "Let's see if you can implement a function that calculates recall!\n"
      ],
      "metadata": {
        "id": "s0NOHIyg3b0P"
      }
    },
    {
      "cell_type": "markdown",
      "source": [
        "###Exercise 8: Calculate recall from the confusion matrix."
      ],
      "metadata": {
        "id": "43kvePST3eTi"
      }
    },
    {
      "cell_type": "code",
      "source": [
        "def calculate_recall(confusion_matrix):\n",
        "    details = calculate_confusion_matrix_details(confusion_matrix)\n",
        "    recall_scores = defaultdict(float)\n",
        "\n",
        "    for class_index, metrics in details.items():\n",
        "        # TODO: Retrieve True Positives (TP) and False Negatives (FN) for the current class from the details\n",
        "        TP = metrics['TP']\n",
        "        FN = metrics['FN']\n",
        "\n",
        "        # TODO: Calculate recall for each class\n",
        "        # Be sure to check if the sum of TP and FN is not zero to avoid dividing by zero\n",
        "        recall = TP / (TP + FN) if (TP + FN) > 0 else 0\n",
        "\n",
        "        # Store the recall score for the class\n",
        "        recall_scores[class_index] = recall\n",
        "\n",
        "    # Return the dictionary containing recall scores for each class\n",
        "    return recall_scores\n"
      ],
      "metadata": {
        "id": "UdC3m7r43o6Q"
      },
      "execution_count": 109,
      "outputs": []
    },
    {
      "cell_type": "code",
      "source": [
        "#@title Answer\n",
        "\n",
        "\n",
        "# def calculate_recall(confusion_matrix):\n",
        "#     details = calculate_confusion_matrix_details(confusion_matrix)\n",
        "#     recall_scores = defaultdict(float)\n",
        "\n",
        "#     for class_index, metrics in details.items():\n",
        "#         TP = metrics['TP']\n",
        "#         FN = metrics['FN']\n",
        "\n",
        "#         # Calculate recall for each class\n",
        "#         recall = TP / (TP + FN) if (TP + FN) > 0 else 0\n",
        "#         recall_scores[class_index] = recall\n",
        "\n",
        "#     return recall_scores"
      ],
      "metadata": {
        "id": "sJ5Gpn0j3rb3"
      },
      "execution_count": 110,
      "outputs": []
    },
    {
      "cell_type": "markdown",
      "source": [
        "####Now we can display our recall for each product!\n",
        "Note that for the binary, we just care about the recall for class 1 (is it cake?) but for the dessert classifier, we need to think about the recall for each class."
      ],
      "metadata": {
        "id": "iw6a89DH3zQN"
      }
    },
    {
      "cell_type": "code",
      "source": [
        "# Binary classifier (cake)\n",
        "cake_recall_scores = calculate_recall(cake_cm)\n",
        "print(\"Cake recall score\", cake_recall_scores[1])\n",
        "\n",
        "print( )\n",
        "\n",
        "# Multi-class\n",
        "print(\"Dessert classifier\")\n",
        "dessert_recall_scores = calculate_recall(dessert_cm)\n",
        "for class_index, recall in dessert_recall_scores.items():\n",
        "    print(f\"Recall for class {class_index}: {recall}\")"
      ],
      "metadata": {
        "id": "6VQP3ysj38dX",
        "colab": {
          "base_uri": "https://localhost:8080/",
          "height": 0
        },
        "outputId": "26a764b4-d0b6-4f1c-9bc3-41b0bae61687"
      },
      "execution_count": 111,
      "outputs": [
        {
          "output_type": "stream",
          "name": "stdout",
          "text": [
            "Cake recall score 0.7142857142857143\n",
            "\n",
            "Dessert classifier\n",
            "Recall for class 0: 0.37777777777777777\n",
            "Recall for class 1: 0.7142857142857143\n",
            "Recall for class 2: 0.6287878787878788\n",
            "Recall for class 3: 0.3795180722891566\n",
            "Recall for class 4: 0.7419354838709677\n",
            "Recall for class 5: 0.42857142857142855\n",
            "Recall for class 6: 0.5394736842105263\n",
            "Recall for class 7: 0.41935483870967744\n",
            "Recall for class 8: 0.5384615384615384\n",
            "Recall for class 9: 0.6747967479674797\n",
            "Recall for class 10: 0.8444444444444444\n",
            "Recall for class 11: 0.84375\n",
            "Recall for class 12: 0.8378378378378378\n",
            "Recall for class 13: 0.7142857142857143\n",
            "Recall for class 14: 0.75\n",
            "Recall for class 15: 0.8205128205128205\n",
            "Recall for class 16: 0.5730337078651685\n",
            "Recall for class 17: 0.8165137614678899\n",
            "Recall for class 18: 0.7671232876712328\n",
            "Recall for class 19: 0.5454545454545454\n",
            "Recall for class 20: 0.42857142857142855\n",
            "Recall for class 21: 0.4842105263157895\n",
            "Recall for class 22: 0.5197368421052632\n"
          ]
        }
      ]
    },
    {
      "cell_type": "markdown",
      "source": [
        "###Exercise 9: Summarize how well the dessert classifier works for french toast and red velvet cake.\n",
        "\n",
        "Come to class prepared to share this at your table.\n",
        "\n",
        "Consider the confusion matrix, precision, and recall. How do you interpret this?\n",
        "\n",
        "What does it mean for life as french toast or as red velvet cake?"
      ],
      "metadata": {
        "id": "DSN1m8O-427d"
      }
    },
    {
      "cell_type": "code",
      "source": [
        "# a little helper code to avoid counting\n",
        "dessert_name = \"red_velvet_cake\"\n",
        "# dessert_name = \"french_toast\"\n",
        "print(dessert_name)\n",
        "print(dessert_class_indices[dessert_name])\n",
        "index = dessert_class_indices[dessert_name]\n",
        "\n",
        "\n",
        "# Print TP, TN, FP, and FN info\n",
        "cm_details = calculate_confusion_matrix_details(dessert_cm)\n",
        "print(cm_details[index])\n",
        "\n",
        "# Print precision score for dessert\n",
        "dessert_precision_scores = calculate_precision(dessert_cm)\n",
        "print(f\"Precision for class {index}: {dessert_precision_scores[index]}\")\n",
        "\n",
        "# Print recall score for dessert\n",
        "dessert_recall_scores = calculate_recall(dessert_cm)\n",
        "print(f\"Recall for class {index}: {dessert_recall_scores[index]}\")\n",
        "\n",
        "\n",
        "# For french toast, the precision is low (0.42), meaning that the model is not\n",
        "# good at accurately predicting the positive predictions. It has a recall of\n",
        "# 0.75, meaning that the proportion of positive identifications that were\n",
        "# actually correct was decently high.\n",
        "\n",
        "# For red velvet, the precision was 0.42, and the recall was 0.55"
      ],
      "metadata": {
        "id": "gsqFsBSq7URn",
        "colab": {
          "base_uri": "https://localhost:8080/",
          "height": 0
        },
        "outputId": "91d02f7f-6b84-4a66-852d-05274b995e58"
      },
      "execution_count": 119,
      "outputs": [
        {
          "output_type": "stream",
          "name": "stdout",
          "text": [
            "red_velvet_cake\n",
            "19\n",
            "{'TP': 42, 'FP': 58, 'FN': 35, 'TN': 2165}\n",
            "Precision for class 19: 0.42\n",
            "Recall for class 19: 0.5454545454545454\n"
          ]
        }
      ]
    }
  ]
}